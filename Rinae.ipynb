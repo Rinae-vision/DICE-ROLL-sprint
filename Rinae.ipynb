{
 "cells": [
  {
   "cell_type": "code",
   "execution_count": null,
   "metadata": {},
   "outputs": [],
   "source": [
    "\n",
    "#python dice roll\n",
    "\n",
    "import random # This is going to introduce the use of randon method on the code throughout\n",
    "\n",
    "print('Welcome to our Dice Rolling Simulator') \n",
    "play_game = input('Are you ready to roll the dice? Enter Yes or No..:').lower() # variable for asking user input\n"
   ]
  },
  {
   "cell_type": "code",
   "execution_count": null,
   "metadata": {},
   "outputs": [],
   "source": [
    "while play_game.lower()[0] == 'y':\n",
    "    print(\"Rolling dice..\")\n",
    "    roll_dice = random.randint(1,6)  # Variable representing each dice\n",
    "    print(f'You rolled a {roll_dice} \\n\\n')\n",
    "    play_game = input(\"Roll again ? \\n\")\n",
    "if play_game.lower()[0] == 'n':\n",
    "        print('Thank you See you again!') # This displays wheeen the user signout of the game"
   ]
  },
  {
   "cell_type": "code",
   "execution_count": null,
   "metadata": {},
   "outputs": [],
   "source": []
  },
  {
   "cell_type": "code",
   "execution_count": null,
   "metadata": {},
   "outputs": [],
   "source": []
  }
 ],
 "metadata": {
  "kernelspec": {
   "display_name": "Python 3",
   "language": "python",
   "name": "python3"
  },
  "language_info": {
   "codemirror_mode": {
    "name": "ipython",
    "version": 3
   },
   "file_extension": ".py",
   "mimetype": "text/x-python",
   "name": "python",
   "nbconvert_exporter": "python",
   "pygments_lexer": "ipython3",
   "version": "3.7.6"
  }
 },
 "nbformat": 4,
 "nbformat_minor": 2
}
